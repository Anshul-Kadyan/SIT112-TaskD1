{
 "cells": [
  {
   "cell_type": "markdown",
   "id": "66f183bd-af75-4f95-b2dc-b9106bafebeb",
   "metadata": {
    "tags": []
   },
   "source": [
    "# **Task D1**\n",
    "## Analyzing YouTube Video Data from News Publishers\n",
    "\n",
    "##### This task focuses on analyzing YouTube videos about a news topic (e.g., Covid-19) published by at least 4 English news publishers (e.g., BBC, Fox News, ...) from a start date to an end date. You will need to specify the news topic and the list of keywords to search for the videos about that topic on YouTube. Also, you will need to extract the channel IDs of the news publishers using the function get_channel_info() given to you in the attached \"collect.ipynb\" file. All settings need to be specified in Section B (Settings) of \"collect.ipynb\" and also copied into Section B (Settings) of this jupyter notebook (D1.ipynb). Please note the terms \"News Publisher\" and \"Channel\" have been used interchangeably in this task (each news publisher has a channel - if a news publisher has more than one channels on YouTube, pick any and state that in your TaskCompletionReport). The following instructions convey important information about the task. Please **read them carefully** and complete the task. If you need any clarification please    \n",
    "<img src=\"youtube.png\" alt=\"SIT112 Avocado!\" width=\"1800\" height=\"200\">"
   ]
  },
  {
   "cell_type": "markdown",
   "id": "59f70e1b-9e2c-4d8a-a94f-343d7ffe085c",
   "metadata": {
    "tags": []
   },
   "source": [
    "### A. Instructions\n",
    "#### Attachments\n",
    "* directions.pdf\n",
    "* collect.ipynb\n",
    "* credentials-sample.ini\n",
    "* video-presentation-guideline.pdf\n",
    "\n",
    "#### Get Started \n",
    "1. Rename the \"credentials-sample.ini\" file to \"credentials.ini\" and follow the instructions. \n",
    "2. Creat your YouTube API key and assign it to developer_key in the credentials.ini file. You will need the YouTube API key to get access to the YouTube API (collect the data). See the following video: https://youtu.be/N18czV5tj5o (the video is not up to date; the instrucitons might be sighly different. You can view the following link for more details: https://developers.google.com/youtube/v3/getting-started). Please note Projects that enable the YouTube Data API have a default quota allocation of 10,000 units per day; to make an efficient use of your quota, please avoid multiple excecutions of the \"collect.ipynb\" file: https://developers.google.com/youtube/v3/guides/quota_and_compliance_audits. \n",
    "3. To work with the YouTube API (send queries), you need to install Google API Python Client using: \"conda install google-api-python-client\" \n",
    "#### Specify the news topic and news publishers (channels)\n",
    "4. Choose a news topic (e.g., Covid-19) and a list of keywords to be used for finding videos about that topic. You can extract the keywords by looking at some sample video titles. \n",
    "5. Choose at least 4 popular English news publishers (e.g., BBC, Fox News).\n",
    "6. Extract, manually, the video IDs of sample videos from different  news publishers (channels). You can do so by clicking on the share button for each video. \n",
    "7. Extract the Channel IDs of the videos using the get_channel_info() function in collect.ipynb \n",
    "#### Collect the Videos and Comments using \"collect.ipynb\" \n",
    "8. Specify the Channel IDs and names in the Settings section of the attached \"collect.ipynb\" file (CHANNELS = {...})\n",
    "9. Specify the list keywords in the Settings section of the attached collect.ipynb file (KEYWORDS = [...])\n",
    "10. Specify the START_DATE and END_DATE in the Settings section of the attached collect.ipynb file\n",
    "11. Specify the MAX_VIDEOS such that you can extract **at least 20 videos per news publisher (channel)**. Make sure for your specified topic, **at least 300 comments per news publisher (channel)** can be collected. Please note some publishers might have disabled comments.\n",
    "12. Please **do not make any changes to the \"collect.ipynb\" file**\n",
    "13. Execute the collect.ipynb file to collect the videos (will be stored in videos.csv) and the comments on those videos (will be stored in comments.csv).\n",
    "#### Complete the Task\n",
    "14. <font color='red'> Choose only 2 quesitons from Section E1 and only 1 quesiton from Section E2 </font> and answer them based on the hints. Please note, for each question, you must **briefly discuss your observations** based on the results.\n",
    "15. Please note **there is no unique solution** for most questions; if you need to make any assumptions, **state your assumptions** in the comments and in your TaskCompletionReport and answer the question accordingly. Please also note, **if something has not been clearly stated in a question (e.g., the type of visualization, etc) it means you are allowed to make your own choice**. \n",
    "16. **Read the attached \"video-presentation-guideline.pdf\"** carefully and record a video clip (based on video-presentation-guideline.pdf) that presents your completed task. Upload the video on a video repository such as YouTube (or any other preferred repository) and provide the link in the TaskCompletionReport. \n",
    "17. Complete the TaskCompletionReport form.\n",
    "\n",
    "#### Submit the Task\n",
    "18. Please make sure you have copied the settings from collect.ipynb into your solution file (D1.ipynb), under section B (settings).  \n",
    "19. Please make sure you have executed and saved all the cells in your jupyter notebook without any error; otherwise, your submission may not be flagged as complete. \n",
    "20. Please make sure you have included the link to the video recording of your presentation in your TaskCompletionReport. \n",
    "21. Submit (1) the TaskCompletionReport as a \"PDF\" file and (2) your solution file (D1.ipynb) as an \"ipynb\" file (do not zip/combine them). Please do not include \"collect.ipynb\" in your submission. \n",
    "\n",
    "Good luck :)"
   ]
  },
  {
   "cell_type": "markdown",
   "id": "d64fbdfe-6943-4132-9bdd-5c9767134c9e",
   "metadata": {},
   "source": [
    "### B. Settings\n",
    "Copy your settings from Section B of the \"collect.ipynb\" file below. "
   ]
  },
  {
   "cell_type": "code",
   "execution_count": 1,
   "id": "872d8a66-4330-40fc-bac7-992bba510182",
   "metadata": {},
   "outputs": [],
   "source": [
    "from datetime import datetime\n",
    "VIDEOS_FILE = \"videos.csv\"\n",
    "COMMENTS_FILE = \"comments.csv\"\n",
    "CREDENTIALS_FILE = 'credentials.ini'\n",
    "START_DATE = datetime(2022, 2, 24)\n",
    "END_DATE = datetime(2024, 2, 24)\n",
    "KEYWORDS =['russia ukrine', 'russia war', 'attack on ukrine', 'russia ukrine war']\n",
    "# You can use functin get_channel_info() to extract the channel ID of a sample video from a news publisher ...\n",
    "CHANNELS = {\n",
    "    'UCXIJgqnII2ZOINSWNOGFThA' : 'Fox News',\n",
    "    'UC16niRr50-MSBwiO3YDb3RA' : 'BBC News',\n",
    "    'UCupvZG-5ko_eiXAupbDfxWw' : 'CNN',\n",
    "    'UCaXkIU1QidjPwiAYu6GcHjg' : 'MSNBC'\n",
    "}\n",
    "MAX_VIDEOS = 50 # the maximum number of video that should be returned for each request. Acceptable values are 0 to 50\n",
    "QUERY = f\"intitle:{','.join(KEYWORDS)}\"\n"
   ]
  },
  {
   "cell_type": "markdown",
   "id": "45865861-25c8-4cb6-99a2-832aace9d65d",
   "metadata": {
    "tags": []
   },
   "source": [
    "### C. Imports\n",
    "You need to import the following libraries. Install the libraries using \"conda install ... or pip install ...\" if they have not been installed on your machine. For example you can install google api python client by executing \"conda install google-api-python-client\""
   ]
  },
  {
   "cell_type": "code",
   "execution_count": 2,
   "id": "14131785-ec21-4364-96fc-7d930999ba5f",
   "metadata": {
    "tags": []
   },
   "outputs": [
    {
     "name": "stdout",
     "output_type": "stream",
     "text": [
      "google-api-python-client module not found. Installing...\n",
      "Requirement already satisfied: google-api-python-client in /opt/anaconda3/lib/python3.11/site-packages (2.129.0)\n",
      "Requirement already satisfied: httplib2<1.dev0,>=0.19.0 in /opt/anaconda3/lib/python3.11/site-packages (from google-api-python-client) (0.22.0)\n",
      "Requirement already satisfied: google-auth!=2.24.0,!=2.25.0,<3.0.0.dev0,>=1.32.0 in /opt/anaconda3/lib/python3.11/site-packages (from google-api-python-client) (2.29.0)\n",
      "Requirement already satisfied: google-auth-httplib2<1.0.0,>=0.2.0 in /opt/anaconda3/lib/python3.11/site-packages (from google-api-python-client) (0.2.0)\n",
      "Requirement already satisfied: google-api-core!=2.0.*,!=2.1.*,!=2.2.*,!=2.3.0,<3.0.0.dev0,>=1.31.5 in /opt/anaconda3/lib/python3.11/site-packages (from google-api-python-client) (2.19.0)\n",
      "Requirement already satisfied: uritemplate<5,>=3.0.1 in /opt/anaconda3/lib/python3.11/site-packages (from google-api-python-client) (4.1.1)\n",
      "Requirement already satisfied: googleapis-common-protos<2.0.dev0,>=1.56.2 in /opt/anaconda3/lib/python3.11/site-packages (from google-api-core!=2.0.*,!=2.1.*,!=2.2.*,!=2.3.0,<3.0.0.dev0,>=1.31.5->google-api-python-client) (1.63.0)\n",
      "Requirement already satisfied: protobuf!=3.20.0,!=3.20.1,!=4.21.0,!=4.21.1,!=4.21.2,!=4.21.3,!=4.21.4,!=4.21.5,<5.0.0.dev0,>=3.19.5 in /opt/anaconda3/lib/python3.11/site-packages (from google-api-core!=2.0.*,!=2.1.*,!=2.2.*,!=2.3.0,<3.0.0.dev0,>=1.31.5->google-api-python-client) (4.21.12)\n",
      "Requirement already satisfied: proto-plus<2.0.0dev,>=1.22.3 in /opt/anaconda3/lib/python3.11/site-packages (from google-api-core!=2.0.*,!=2.1.*,!=2.2.*,!=2.3.0,<3.0.0.dev0,>=1.31.5->google-api-python-client) (1.23.0)\n",
      "Requirement already satisfied: requests<3.0.0.dev0,>=2.18.0 in /opt/anaconda3/lib/python3.11/site-packages (from google-api-core!=2.0.*,!=2.1.*,!=2.2.*,!=2.3.0,<3.0.0.dev0,>=1.31.5->google-api-python-client) (2.31.0)\n",
      "Requirement already satisfied: cachetools<6.0,>=2.0.0 in /opt/anaconda3/lib/python3.11/site-packages (from google-auth!=2.24.0,!=2.25.0,<3.0.0.dev0,>=1.32.0->google-api-python-client) (4.2.2)\n",
      "Requirement already satisfied: pyasn1-modules>=0.2.1 in /opt/anaconda3/lib/python3.11/site-packages (from google-auth!=2.24.0,!=2.25.0,<3.0.0.dev0,>=1.32.0->google-api-python-client) (0.2.8)\n",
      "Requirement already satisfied: rsa<5,>=3.1.4 in /opt/anaconda3/lib/python3.11/site-packages (from google-auth!=2.24.0,!=2.25.0,<3.0.0.dev0,>=1.32.0->google-api-python-client) (4.9)\n",
      "Requirement already satisfied: pyparsing!=3.0.0,!=3.0.1,!=3.0.2,!=3.0.3,<4,>=2.4.2 in /opt/anaconda3/lib/python3.11/site-packages (from httplib2<1.dev0,>=0.19.0->google-api-python-client) (3.0.9)\n",
      "Requirement already satisfied: pyasn1<0.5.0,>=0.4.6 in /opt/anaconda3/lib/python3.11/site-packages (from pyasn1-modules>=0.2.1->google-auth!=2.24.0,!=2.25.0,<3.0.0.dev0,>=1.32.0->google-api-python-client) (0.4.8)\n",
      "Requirement already satisfied: charset-normalizer<4,>=2 in /opt/anaconda3/lib/python3.11/site-packages (from requests<3.0.0.dev0,>=2.18.0->google-api-core!=2.0.*,!=2.1.*,!=2.2.*,!=2.3.0,<3.0.0.dev0,>=1.31.5->google-api-python-client) (2.0.4)\n",
      "Requirement already satisfied: idna<4,>=2.5 in /opt/anaconda3/lib/python3.11/site-packages (from requests<3.0.0.dev0,>=2.18.0->google-api-core!=2.0.*,!=2.1.*,!=2.2.*,!=2.3.0,<3.0.0.dev0,>=1.31.5->google-api-python-client) (3.4)\n",
      "Requirement already satisfied: urllib3<3,>=1.21.1 in /opt/anaconda3/lib/python3.11/site-packages (from requests<3.0.0.dev0,>=2.18.0->google-api-core!=2.0.*,!=2.1.*,!=2.2.*,!=2.3.0,<3.0.0.dev0,>=1.31.5->google-api-python-client) (2.0.7)\n",
      "Requirement already satisfied: certifi>=2017.4.17 in /opt/anaconda3/lib/python3.11/site-packages (from requests<3.0.0.dev0,>=2.18.0->google-api-core!=2.0.*,!=2.1.*,!=2.2.*,!=2.3.0,<3.0.0.dev0,>=1.31.5->google-api-python-client) (2024.2.2)\n",
      "All required modules are installed.\n"
     ]
    },
    {
     "name": "stderr",
     "output_type": "stream",
     "text": [
      "[nltk_data] Downloading package stopwords to\n",
      "[nltk_data]     /Users/kadyan/nltk_data...\n",
      "[nltk_data]   Package stopwords is already up-to-date!\n"
     ]
    }
   ],
   "source": [
    "import importlib\n",
    "import subprocess\n",
    "\n",
    "# The following lines should install all libraries you need - you can install the libraries manually if the script did not work \n",
    "required_modules = ['pandas', 'seaborn', 'matplotlib', 'google-api-python-client', 'datetime', 'configparser', 'nltk', 'langdetect', 'textblob', 'prettytable', 'tabulate', 'numpy']\n",
    "for module in required_modules:\n",
    "    try:\n",
    "        importlib.import_module(module)\n",
    "    except ImportError:\n",
    "        print(f\"{module} module not found. Installing...\")\n",
    "        subprocess.check_call(['pip', 'install', module])\n",
    "\n",
    "print(\"All required modules are installed.\")\n",
    "\n",
    "# import the installed libraries ...\n",
    "import pandas as pd\n",
    "import seaborn as sns\n",
    "import matplotlib.pyplot as plt\n",
    "from googleapiclient.discovery import build\n",
    "from googleapiclient.errors import HttpError\n",
    "from datetime import datetime\n",
    "import os\n",
    "from configparser import ConfigParser\n",
    "import re\n",
    "import nltk\n",
    "nltk.download('stopwords')\n",
    "from nltk.corpus import stopwords\n",
    "from langdetect import detect\n",
    "import langdetect\n",
    "from textblob import TextBlob\n",
    "import calendar\n",
    "import matplotlib.dates as mdates\n",
    "from matplotlib.dates import DateFormatter\n",
    "from prettytable import PrettyTable\n",
    "from tabulate import tabulate\n",
    "import numpy as np\n",
    "from collections import defaultdict\n",
    "import warnings"
   ]
  },
  {
   "cell_type": "markdown",
   "id": "1dacb47b-bc27-4224-bbdb-d6fe960387ba",
   "metadata": {
    "tags": []
   },
   "source": [
    "### D. Clean and Prepare the Data"
   ]
  },
  {
   "cell_type": "markdown",
   "id": "53640a66-446e-470c-9b7d-928367dcfee3",
   "metadata": {},
   "source": [
    "##### D.1. Write Python code that cleans the data for analyzing the videos and comments."
   ]
  },
  {
   "cell_type": "code",
   "execution_count": 3,
   "id": "4282dba5-9feb-4860-be39-efac070d9827",
   "metadata": {},
   "outputs": [
    {
     "name": "stdout",
     "output_type": "stream",
     "text": [
      "Data cleaning completed.\n"
     ]
    }
   ],
   "source": [
    "# Load the videos and comments data from CSV files\n",
    "videos_df = pd.read_csv(VIDEOS_FILE)\n",
    "comments_df = pd.read_csv(COMMENTS_FILE)\n",
    "\n",
    "# Data Cleaning\n",
    "# Handle missing values\n",
    "videos_df.dropna(inplace=True)\n",
    "comments_df.dropna(inplace=True)\n",
    "\n",
    "# Perform additional data cleaning operations if needed\n",
    "# For example, remove special characters, convert text to lowercase, etc.\n",
    "\n",
    "# Save the cleaned data back to CSV files\n",
    "videos_df.to_csv(VIDEOS_FILE, index=False)\n",
    "comments_df.to_csv(COMMENTS_FILE, index=False)\n",
    "\n",
    "# Optionally, print a message to indicate that data cleaning is completed\n",
    "print(\"Data cleaning completed.\")\n",
    "\n"
   ]
  },
  {
   "cell_type": "markdown",
   "id": "46b1bded-bb84-42ab-b9af-b0b73bfaed62",
   "metadata": {},
   "source": [
    "##### D.2. Write Python code that prepares the data for analyzing the videos and comments."
   ]
  },
  {
   "cell_type": "code",
   "execution_count": 5,
   "id": "d7a461d1",
   "metadata": {
    "tags": []
   },
   "outputs": [],
   "source": [
    "# A sample code for data preparation has been given below. Feel free to edit when needed\n",
    "\n",
    "# Load the videos and comments dataframes from their respective CSV files\n",
    "videos_df = pd.read_csv('videos.csv')\n",
    "comments_df = pd.read_csv('comments.csv')\n",
    "\n",
    "# Convert the published_at column to a datetime object for videos_df\n",
    "videos_df['published_at'] = pd.to_datetime(videos_df['published_at'], format='%Y-%m-%dT%H:%M:%SZ')\n",
    "\n",
    "# Create a new column that contains the published_at weekly\n",
    "videos_df['published_at_week'] = videos_df['published_at'].dt.strftime('%Y-%m-%W')\n",
    "\n",
    "# Create a new column that contains the published_at monthly\n",
    "videos_df['published_at_month'] = videos_df['published_at'].dt.strftime('%Y-%m')\n",
    "\n",
    "# Create a new column that contains the published_at monthly\n",
    "videos_df['published_at_year'] = videos_df['published_at'].dt.strftime('%Y')\n",
    "\n",
    "# Convert the published_at column to a datetime object for comments_df\n",
    "comments_df['comment_date'] = pd.to_datetime(comments_df['comment_date'], format='%Y-%m-%dT%H:%M:%SZ')\n",
    "\n",
    "# Create a new column that contains the published_at weekly\n",
    "comments_df['comment_date_week'] = comments_df['comment_date'].dt.strftime('%Y-%m-%W')\n",
    "\n",
    "# Create a new column that contains the published_at monthly\n",
    "comments_df['comment_date_month'] = comments_df['comment_date'].dt.strftime('%Y-%m')\n",
    "\n",
    "# Create a new column that contains the published_at monthly\n",
    "comments_df['comment_date_year'] = comments_df['comment_date'].dt.strftime('%Y')\n",
    "\n",
    "# Convert the duration column to seconds for videos_df\n",
    "videos_df['duration'] = videos_df['duration'].apply(lambda x: re.findall(r'PT(\\d+)M(\\d+)S', x))\n",
    "videos_df['duration'] = videos_df['duration'].apply(lambda x: int(x[0][0]) * 60 + int(x[0][1]) if len(x) > 0 else 0)\n",
    "\n",
    "# Prepared DataFrame objects; can be used for data analysis\n",
    "videos = videos_df.copy(deep=True)\n",
    "comments = comments_df.copy(deep=True)\n",
    "videos_comments_inner = pd.merge(videos,comments, on='video_id', how = 'inner') # merged videos and comments\n",
    "videos_comments_left = pd.merge(videos,comments, on='video_id', how = 'left') # left-merged videos and comments"
   ]
  },
  {
   "cell_type": "markdown",
   "id": "c138ac16-493b-41f2-8493-a4a598b2e5f4",
   "metadata": {
    "tags": []
   },
   "source": [
    "### E. Analyze the Videos and Comments\n",
    "\n",
    "Please note you must **discuss your observations** for each question, in addition to the python code. "
   ]
  },
  {
   "cell_type": "markdown",
   "id": "b8830393-f4f0-4f1b-bdc6-2c9fdd9a740d",
   "metadata": {
    "tags": []
   },
   "source": [
    "#### E.1. Analyze the Videos and Comments - Part 1\n",
    "* Choose **(only) 2** of the following questions (E.1.1 to E.1.7) and write Python code to answer them. "
   ]
  },
  {
   "cell_type": "markdown",
   "id": "9c4364cc-aaf3-42c8-8421-643ea66c32ef",
   "metadata": {},
   "source": [
    "##### E.1.1 Compare the distributions of the number of views, likes, and comments for the videos. Use visualization and discuss your observations. Your visualization must include three subplots, one for each variable (number of views, number of likes, number of comments), and each subplot must display a histogram of the respective variable overlayed by a kernel density function. Additionally, your visualization must have proper labels for the x and y axes, as well as a title for each subplot."
   ]
  },
  {
   "cell_type": "code",
   "execution_count": 6,
   "id": "dc13cf01-36ca-49ba-8b05-2ff9a41aafa5",
   "metadata": {
    "tags": []
   },
   "outputs": [
    {
     "name": "stderr",
     "output_type": "stream",
     "text": [
      "/opt/anaconda3/lib/python3.11/site-packages/seaborn/_oldcore.py:1119: FutureWarning: use_inf_as_na option is deprecated and will be removed in a future version. Convert inf values to NaN before operating instead.\n",
      "  with pd.option_context('mode.use_inf_as_na', True):\n",
      "/opt/anaconda3/lib/python3.11/site-packages/seaborn/_oldcore.py:1119: FutureWarning: use_inf_as_na option is deprecated and will be removed in a future version. Convert inf values to NaN before operating instead.\n",
      "  with pd.option_context('mode.use_inf_as_na', True):\n",
      "/opt/anaconda3/lib/python3.11/site-packages/seaborn/_oldcore.py:1119: FutureWarning: use_inf_as_na option is deprecated and will be removed in a future version. Convert inf values to NaN before operating instead.\n",
      "  with pd.option_context('mode.use_inf_as_na', True):\n"
     ]
    },
    {
     "data": {
      "image/png": "[encoded data removed]",
      "text/plain": [
       "<Figure size 1500x500 with 3 Axes>"
      ]
     },
     "metadata": {},
     "output_type": "display_data"
    }
   ],
   "source": [
    "# Define the column names for which we want to create the histograms\n",
    "columns = ['view_count', 'like_count', 'comment_count']\n",
    "\n",
    "# Create a figure with three subplots using a 1x3 grid\n",
    "fig, axes = plt.subplots(1, 3, figsize=(15, 5))\n",
    "\n",
    "# Loop over the columns and plot a histogram on each subplot\n",
    "for i, column in enumerate(columns):\n",
    "    sns.histplot(videos[column], kde=True, ax=axes[i])\n",
    "    axes[i].set_title(f'Distribution of {column.capitalize()}')\n",
    "    axes[i].set_xlabel(f'{column.capitalize()}')\n",
    "    axes[i].set_ylabel('Frequency')\n",
    "\n",
    "# Adjust layout\n",
    "plt.tight_layout()\n",
    "\n",
    "# Show the plot\n",
    "plt.show()\n"
   ]
  },
  {
   "cell_type": "raw",
   "id": "51e618e6-1e82-4d9e-a35b-b495f5d3b812",
   "metadata": {},
   "source": [
    "Discuss your observations here:\n",
    "\n",
    "Observation 1: View_count, Like_count, Comment_count all have very similiar trend initially it increased and then it started droping off gradually.\n",
    "\n",
    "Observation 2: View_count and Like_count where height intially but Comment_count reached its heighest point afterwards as shown by graph.\n",
    "\n",
    "..."
   ]
  },
  {
   "cell_type": "markdown",
   "id": "632ed5eb-fce3-4183-9a16-6101ae3ffdf1",
   "metadata": {},
   "source": [
    "##### E.1.2. What is the total number of views, likes, and comments for the videos published by different news publishers (channels)? Use visualization to compare these totals across the channels; discuss your observations. Your visualization should include three subplots, one for each variable (total number of views, total number of likes, and total number of comments). Additionally, your visualization should have appropriate labels for the x and y axes, as well as a title for each subplot."
   ]
  },
  {
   "cell_type": "code",
   "execution_count": 7,
   "id": "21b75f1e-f5f1-4a14-b8ea-8f3116df24ba",
   "metadata": {
    "tags": []
   },
   "outputs": [
    {
     "data": {
      "image/png": "[encoded data removed]",
      "text/plain": [
       "<Figure size 1500x500 with 3 Axes>"
      ]
     },
     "metadata": {},
     "output_type": "display_data"
    }
   ],
   "source": [
    "# Merge videos and comments DataFrames on video_id\n",
    "videos_comments = pd.merge(videos, comments, on='video_id', how='inner')\n",
    "\n",
    "# Calculate total views, likes, and comments by channel title\n",
    "total_views = videos_comments.groupby('channel_title')['view_count'].sum()\n",
    "total_likes = videos_comments.groupby('channel_title')['like_count'].sum()\n",
    "total_comments = videos_comments.groupby('channel_title').size()  # Count the number of comments per channel\n",
    "\n",
    "# Create subplots\n",
    "fig, axes = plt.subplots(1, 3, figsize=(15, 5))\n",
    "\n",
    "# Plot total number of views, likes, and comments by channel title\n",
    "total_views.plot(kind='bar', ax=axes[0])\n",
    "axes[0].set_title('Total Views by Channel')\n",
    "axes[0].set_xlabel('Channel')\n",
    "axes[0].set_ylabel('Total Views')\n",
    "\n",
    "total_likes.plot(kind='bar', ax=axes[1])\n",
    "axes[1].set_title('Total Likes by Channel')\n",
    "axes[1].set_xlabel('Channel')\n",
    "axes[1].set_ylabel('Total Likes')\n",
    "\n",
    "total_comments.plot(kind='bar', ax=axes[2])\n",
    "axes[2].set_title('Total Comments by Channel')\n",
    "axes[2].set_xlabel('Channel')\n",
    "axes[2].set_ylabel('Total Comments')\n",
    "\n",
    "plt.tight_layout()\n",
    "plt.show()\n"
   ]
  },
  {
   "cell_type": "raw",
   "id": "65fa9e6c-2f65-400f-b1ca-dbe6ef814926",
   "metadata": {},
   "source": [
    "Briefly discuss your observations here:\n",
    "\n",
    "Observation 1: CNN has most views, Fox Channel has most likes and MSNBC has most comments by channel.\n",
    "\n",
    "Observation 2: Fox News has more likes as compared to views, MNSBC has more comments as compared to its likes and views.\n",
    "\n",
    "..."
   ]
  },
  {
   "cell_type": "markdown",
   "id": "b5ccacff-ad00-4e88-883d-b887719405fc",
   "metadata": {},
   "source": [
    "##### E.1.3. How has the number of comments changed over time? Use visualization to answer this question and annotate at least three major events related to Covid-19 (e.g., WHO declares pandemic) on your plot. Additionally, analyze the plot and try to identify any relationship between these events and the changes in the number of comments; discuss your observations."
   ]
  },
  {
   "cell_type": "code",
   "execution_count": 8,
   "id": "2527da09-a38b-4fb2-87f2-ca9fda274070",
   "metadata": {
    "tags": []
   },
   "outputs": [],
   "source": [
    "# Write your code here:\n",
    "\n",
    "# Create a figure and an axes object \n",
    "\n",
    "# Group the comments by week \n",
    "\n",
    "# Plot comments_by_week \n",
    "\n",
    "# Annonate the major events on the plot ..\n",
    "\n",
    "# Customize and display the plot"
   ]
  },
  {
   "cell_type": "raw",
   "id": "a0a75ba9-cbda-4a02-acc5-0012c187d82a",
   "metadata": {},
   "source": [
    "Briefly discuss your observations here:\n",
    "\n",
    "Observation 1: \n",
    "\n",
    "Observation 2: \n",
    "\n",
    "..."
   ]
  },
  {
   "cell_type": "markdown",
   "id": "0e9963eb-5e4d-4db4-992c-0e82a8324a0c",
   "metadata": {
    "tags": []
   },
   "source": [
    "##### E.1.4. How are the parent comments' likes distributed across different news publishers (channels)? Visualize the distributions using a violin plot and discuss your observations.\n",
    "\n",
    "* A violin plot is a type of data visualization that combines the features of a box plot and a kernel density plot. It is used to show the distribution of a dataset, and provides information about the underlying data. The thickness of a violin plot represents the density of data points in that area of the plot. Thicker areas indicate a higher density of data points, while thinner areas indicate a lower density of data points. "
   ]
  },
  {
   "cell_type": "code",
   "execution_count": 9,
   "id": "b3bdda83-8418-4232-ad78-79d00d9ddc0c",
   "metadata": {
    "tags": []
   },
   "outputs": [],
   "source": [
    "# Write your code here:\n",
    "\n",
    "# Assign the `videos_comments` DataFrame to a new variable `df`\n",
    "\n",
    "# Create a new column in the `df` DataFrame to indicate whether a comment is a parent or not\n",
    "\n",
    "# Filter out non-parent comments using a boolean mask created from the `is_parent` column\n",
    "\n",
    "# Create a violin plot of the data with a limited y-axis range\n",
    "\n",
    "# Customize and display the plot"
   ]
  },
  {
   "cell_type": "raw",
   "id": "68270418-2e63-451d-81e8-74fcb80ae840",
   "metadata": {},
   "source": [
    "Briefly discuss your observations here:\n",
    "\n",
    "Observation 1: \n",
    "\n",
    "Observation 2: \n",
    "\n",
    "..."
   ]
  },
  {
   "cell_type": "markdown",
   "id": "f3c8274c-35c1-4fad-b45d-49fd8e4a74b1",
   "metadata": {},
   "source": [
    "##### E.1.5. How are the comment replies distributed over time for different news publishers (channels)? Visualize the distributions using probability density functions."
   ]
  },
  {
   "cell_type": "code",
   "execution_count": 10,
   "id": "ac3a3af2-e2ea-485b-8c1b-c330f76a28fe",
   "metadata": {
    "tags": []
   },
   "outputs": [],
   "source": [
    "# Write your code here:\n",
    "\n",
    "# Group the comments by channel title\n",
    "\n",
    "# Create a figure and axis object using the `subplots()` method \n",
    "\n",
    "# Loop through the channels and plot the probability density function for each\n",
    "\n",
    "# Customize and display the plot"
   ]
  },
  {
   "cell_type": "raw",
   "id": "53cd53a4-9b5e-40ba-ad3b-619636cf7599",
   "metadata": {},
   "source": [
    "Briefly discuss your observations here:\n",
    "\n",
    "Observation 1: \n",
    "\n",
    "Observation 2: \n",
    "\n",
    "..."
   ]
  },
  {
   "cell_type": "markdown",
   "id": "a9c85e31-0b6c-452c-bdc2-d95a1a47ac8e",
   "metadata": {},
   "source": [
    "##### E.1.6. What are the top 5 videos with the highest ratio of likes to views? Display the URLs of these videos as well as their corresponding like counts, view counts, and like to view ratios. Discuss your observations. "
   ]
  },
  {
   "cell_type": "code",
   "execution_count": 11,
   "id": "775ff698-1fc1-4678-b2a0-7d860262ec08",
   "metadata": {
    "tags": []
   },
   "outputs": [],
   "source": [
    "# Write your code here:\n",
    "\n",
    "# Calculate the ratio of likes to views for each video\n",
    "\n",
    "# Sort the videos by like to view ratio in descending order \n",
    "\n",
    "# Select the top 5 videos with the highest like ratio\n",
    "\n",
    "# Display the URLs, like and view counts, and like to view ratios for the top 5 videos"
   ]
  },
  {
   "cell_type": "raw",
   "id": "0586311b-2ec9-4d0a-a8cc-fef561f44ac8",
   "metadata": {},
   "source": [
    "Briefly discuss your observations here:\n",
    "\n",
    "Observation 1: \n",
    "\n",
    "Observation 2:\n",
    "\n",
    "..."
   ]
  },
  {
   "cell_type": "markdown",
   "id": "4164d089-38cc-4e93-a329-d7ebb6873b9d",
   "metadata": {},
   "source": [
    "##### E.1.7. Is there any relationship between the average length of the comments on a video and its like count? Visualize the relationship and discuss your observations. Exclude from your analysis the videos with no comments."
   ]
  },
  {
   "cell_type": "code",
   "execution_count": 12,
   "id": "2ba20c52-3265-4a2e-ac26-209e47038cb8",
   "metadata": {
    "tags": []
   },
   "outputs": [],
   "source": [
    "# Write your code here:\n",
    "\n",
    "# Calculate the average comment length and like count for each video \n",
    "\n",
    "# Plot the relationship between average comment length and like count\n",
    "\n",
    "# Customize and display the plot"
   ]
  },
  {
   "cell_type": "raw",
   "id": "a8fd5af1-ecde-4c6e-83a2-f2ff1329a305",
   "metadata": {},
   "source": [
    "Briefly discuss your observations here:\n",
    "\n",
    "Observation 1: \n",
    "\n",
    "Observation 2:\n",
    "\n",
    "..."
   ]
  },
  {
   "cell_type": "markdown",
   "id": "a6c4d9bb-3efb-4ac8-9ea0-0a9a2a908c34",
   "metadata": {
    "tags": []
   },
   "source": [
    "#### E.2. Analyze the Videos and Comments - Part 2\n",
    "* Choose **(only) 1** of the following questions (E.2.1 to E.2.7) and write Python code to answer them. "
   ]
  },
  {
   "cell_type": "markdown",
   "id": "f0d374eb-e02d-43c3-b955-80c4b8b69c87",
   "metadata": {},
   "source": [
    "##### E.2.1. What are the top 10 comments with the most replies? For each comment, display the Channel Title, Comment text, and the total number of replies that comment has received. Discuss your observations."
   ]
  },
  {
   "cell_type": "code",
   "execution_count": 13,
   "id": "ce9195c6-6ab7-4e89-a4e8-a37b97edc7bc",
   "metadata": {
    "tags": []
   },
   "outputs": [],
   "source": [
    "# Write your code here:\n",
    "\n",
    "# Get the total number of replies to each comment\n",
    "\n",
    "# Select comments without a parent comment_id (i.e., root comments)\n",
    "\n",
    "# Get the top 10 root comments with the most replies\n",
    "\n",
    "# Display the 'comment_text', 'channel_title', and 'reply_count' of the top 10 root comments\n"
   ]
  },
  {
   "cell_type": "raw",
   "id": "7ee86ca8-607b-49bf-9900-12a350fd40d7",
   "metadata": {},
   "source": [
    "Briefly discuss your observations here:\n",
    "\n",
    "Observation 1: \n",
    "\n",
    "Observation 2:\n",
    "\n",
    "..."
   ]
  },
  {
   "cell_type": "markdown",
   "id": "9a2cc045-2574-45ee-b26c-de68ff848ef4",
   "metadata": {},
   "source": [
    "##### E.2.2. How does the average length of the comments (in characters) on a video vary with its duration? Analyze this for different news publishers (channels) using visualizations and discuss your observations."
   ]
  },
  {
   "cell_type": "code",
   "execution_count": 14,
   "id": "022220c4-b191-41d7-a961-21f96e4438ac",
   "metadata": {
    "tags": []
   },
   "outputs": [
    {
     "data": {
      "image/png": "[encoded data removed]",
      "text/plain": [
       "<Figure size 1500x500 with 4 Axes>"
      ]
     },
     "metadata": {},
     "output_type": "display_data"
    }
   ],
   "source": [
    "# Importing necessary libraries\n",
    "import pandas as pd\n",
    "import matplotlib.pyplot as plt\n",
    "\n",
    "# Assuming comments_df contains the comments data and videos_df contains video information\n",
    "\n",
    "# Add a new column to the comments DataFrame to store the length of each comment\n",
    "comments_df['comment_length'] = comments_df['comment_text'].apply(len)\n",
    "\n",
    "# Group the comments DataFrame by video_id and calculate the mean comment length for each video\n",
    "mean_comment_length = comments_df.groupby('video_id')['comment_length'].mean()\n",
    "\n",
    "# Merge the videos DataFrame with the grouped comments DataFrame\n",
    "merged_df = videos_df.merge(mean_comment_length, on='video_id')\n",
    "\n",
    "# Create subplots for each channel\n",
    "channels = merged_df['channel_title'].unique()\n",
    "num_channels = len(channels)\n",
    "\n",
    "fig, axes = plt.subplots(nrows=1, ncols=num_channels, figsize=(15, 5), sharey=True)\n",
    "\n",
    "for i, channel in enumerate(channels):\n",
    "    channel_data = merged_df[merged_df['channel_title'] == channel]\n",
    "    axes[i].scatter(channel_data['duration'], channel_data['comment_length'], alpha=0.5)\n",
    "    axes[i].set_title(channel)\n",
    "    axes[i].set_xlabel('Video Duration (seconds)')\n",
    "    if i == 0:\n",
    "        axes[i].set_ylabel('Average Comment Length')\n",
    "\n",
    "# Customize and display the subplots\n",
    "plt.tight_layout()\n",
    "plt.show()\n"
   ]
  },
  {
   "cell_type": "raw",
   "id": "7d1c1b10-bf89-4fcf-9715-275be0c529a3",
   "metadata": {},
   "source": [
    "Briefly discuss your observations here:\n",
    "\n",
    "Observation 1: For Fox News and BCC News short videos got more comments also BBC News got longer comments for short videos.\n",
    "\n",
    "Observation 2: CNN got more comments for slighlty longer videos but comments lenght looks the same. For MSNBC news slightly longer and longer videos got majority of the comments and even the comments with highest lenght as shown in graph.\n",
    "\n",
    "..."
   ]
  },
  {
   "cell_type": "markdown",
   "id": "6668d874-b135-4d7c-8b47-fcd32e75f6ff",
   "metadata": {},
   "source": [
    "##### E.2.3. How has the total number of comments per news publisher (channel) changed over months? Create a visualization to investigate this and discuss your observations. Make sure the outliers have been removed. "
   ]
  },
  {
   "cell_type": "code",
   "execution_count": 15,
   "id": "c5730935-f909-485b-8bcd-cb6e8e31812b",
   "metadata": {
    "tags": []
   },
   "outputs": [],
   "source": [
    "# Write your code here:\n",
    "\n",
    "# Convert the published_at column to a datetime object and extract year and month\n",
    "\n",
    "# Calculate the total number of comments per channel_title and year_month\n",
    "\n",
    "# Remove outliers\n",
    "\n",
    "# Create a pivot table to group the data by year_month and channel_title\n",
    "\n",
    "# Create, customize, and display the plot"
   ]
  },
  {
   "cell_type": "raw",
   "id": "815cbf55-fad1-4f27-9e38-92eb47913c7d",
   "metadata": {},
   "source": [
    "Briefly discuss your observations here:\n",
    "\n",
    "Observation 1: \n",
    "\n",
    "Observation 2:\n",
    "\n",
    "..."
   ]
  },
  {
   "cell_type": "markdown",
   "id": "5e32448b-1880-4a4e-b3f2-7379ea28384e",
   "metadata": {},
   "source": [
    "##### E.2.4. How does the distribution of number of comments and likes vary across different news publishers (channels)? Use visualization to answer this question; discuss your observations. Make sure the outliers have been removed from the visualization. "
   ]
  },
  {
   "cell_type": "code",
   "execution_count": 16,
   "id": "cdb502bc-c9ea-4aa1-b53d-3bd49ff468f2",
   "metadata": {
    "tags": []
   },
   "outputs": [],
   "source": [
    "# Write your code here:\n",
    "\n",
    "# Remove outliers\n",
    "\n",
    "# Create a figure with two subplots\n",
    "\n",
    "# Plot the distribution of comments and likes per news publisher\n",
    "\n",
    "# Customize and display the plots"
   ]
  },
  {
   "cell_type": "raw",
   "id": "c37ef273-1f2c-460a-859c-18fb154193ac",
   "metadata": {},
   "source": [
    "Briefly discuss your observations here:\n",
    "\n",
    "Observation 1: \n",
    "\n",
    "Observation 2:\n",
    "\n",
    "..."
   ]
  },
  {
   "cell_type": "markdown",
   "id": "4e7216eb-1c86-4329-98df-8a8c32121d74",
   "metadata": {},
   "source": [
    "##### E.2.5. Is there a relationship between the duration of a video and receiving a below-average number of comments? Use visualization to answer this question; discuss your observations."
   ]
  },
  {
   "cell_type": "code",
   "execution_count": 17,
   "id": "670ba21c-a22b-40cb-8f3d-7a45ebd3c532",
   "metadata": {
    "tags": []
   },
   "outputs": [],
   "source": [
    "# Write your code here:\n",
    "\n",
    "# Calculate average number of comments\n",
    "\n",
    "# Add a column to indicate if a video has fewer comments than average\n",
    "\n",
    "# Customize and display the plot"
   ]
  },
  {
   "cell_type": "raw",
   "id": "040b34ae-318d-4dbf-ab4f-14cff752eb7a",
   "metadata": {},
   "source": [
    "Briefly discuss your observations here:\n",
    "\n",
    "Observation 1: \n",
    "\n",
    "Observation 2:\n",
    "\n",
    "..."
   ]
  },
  {
   "cell_type": "markdown",
   "id": "276735e1-305d-4372-82b4-0b9fa4211b09",
   "metadata": {},
   "source": [
    "##### E.2.6. For a comment, Response Time (in seconds) is defined as the period between the time the comment is posted and the time the video is published. Use visualization to compare the distribution of the comment response times for different news publishers (channels). How does the median response time and interquartile range vary across the news publishers? discuss your observations. "
   ]
  },
  {
   "cell_type": "code",
   "execution_count": 18,
   "id": "4e50bd99-98b3-4037-8e35-473de2c21b0f",
   "metadata": {
    "tags": []
   },
   "outputs": [],
   "source": [
    "# Write your code here:\n",
    "\n",
    "# Calculate response time for each comment\n",
    "\n",
    "# Visualize the median, interquartile range, and outliers for each channel\n",
    "\n",
    "# Customize and display the plot"
   ]
  },
  {
   "cell_type": "raw",
   "id": "3c962848-5e03-46c3-8f3f-b96b1cbf3e59",
   "metadata": {},
   "source": [
    "Briefly discuss your observations here:\n",
    "\n",
    "Observation 1: \n",
    "\n",
    "Observation 2:\n",
    "\n",
    "..."
   ]
  },
  {
   "cell_type": "markdown",
   "id": "cd8cb03c-620e-4370-98ab-e3ea92d1707a",
   "metadata": {
    "tags": []
   },
   "source": [
    "##### E.2.7. Compare the average number of videos published per week across different news publishers (channels)? Use visualization and discuss your observations. "
   ]
  },
  {
   "cell_type": "code",
   "execution_count": 19,
   "id": "078eb518-f319-463a-a93b-16b3e900b828",
   "metadata": {
    "tags": []
   },
   "outputs": [],
   "source": [
    "# Write your code here:\n",
    "\n",
    "# Group by channel_title and resample by week, counting the number of videos\n",
    "\n",
    "# Calculate the average number of videos published per week for each channel\n",
    "\n",
    "# Customize and display the plot"
   ]
  },
  {
   "cell_type": "raw",
   "id": "43b0346c-66a1-4631-abbc-a8ec9c546341",
   "metadata": {},
   "source": [
    "Briefly discuss your observations here:\n",
    "\n",
    "Observation 1: \n",
    "\n",
    "Observation 2:\n",
    "\n",
    "..."
   ]
  },
  {
   "cell_type": "code",
   "execution_count": 20,
   "id": "35bbfd9b-4cd8-45c8-9a65-581a784eb284",
   "metadata": {},
   "outputs": [
    {
     "name": "stdout",
     "output_type": "stream",
     "text": [
      " videos dataframe: video_id                      object\n",
      "channel_id                    object\n",
      "video_title                   object\n",
      "channel_title                 object\n",
      "category_name                 object\n",
      "live_upcoming_none            object\n",
      "view_count                     int64\n",
      "like_count                     int64\n",
      "dislike_count                  int64\n",
      "comment_count                  int64\n",
      "published_at          datetime64[ns]\n",
      "tags                          object\n",
      "duration                       int64\n",
      "definition                    object\n",
      "caption                         bool\n",
      "thumbnail                     object\n",
      "url                           object\n",
      "published_at_week             object\n",
      "published_at_month            object\n",
      "published_at_year             object\n",
      "dtype: object \n",
      "\n",
      " comments dataframe: video_id                      object\n",
      "comment_id                    object\n",
      "comment_text                  object\n",
      "comment_author                object\n",
      "comment_date          datetime64[ns]\n",
      "comment_like_count             int64\n",
      "parent_comment_id             object\n",
      "comment_date_week             object\n",
      "comment_date_month            object\n",
      "comment_date_year             object\n",
      "dtype: object \n",
      "\n",
      "videos_comments dataframe: video_id                      object\n",
      "channel_id                    object\n",
      "video_title                   object\n",
      "channel_title                 object\n",
      "category_name                 object\n",
      "live_upcoming_none            object\n",
      "view_count                     int64\n",
      "like_count                     int64\n",
      "dislike_count                  int64\n",
      "comment_count                  int64\n",
      "published_at          datetime64[ns]\n",
      "tags                          object\n",
      "duration                       int64\n",
      "definition                    object\n",
      "caption                         bool\n",
      "thumbnail                     object\n",
      "url                           object\n",
      "published_at_week             object\n",
      "published_at_month            object\n",
      "published_at_year             object\n",
      "comment_id                    object\n",
      "comment_text                  object\n",
      "comment_author                object\n",
      "comment_date          datetime64[ns]\n",
      "comment_like_count             int64\n",
      "parent_comment_id             object\n",
      "comment_date_week             object\n",
      "comment_date_month            object\n",
      "comment_date_year             object\n",
      "dtype: object \n",
      "\n"
     ]
    }
   ],
   "source": [
    "print(f\" videos dataframe: {videos.dtypes} \\n\")\n",
    "print(f\" comments dataframe: {comments.dtypes} \\n\")\n",
    "print(f\"videos_comments dataframe: {pd.merge(videos,comments, how='inner', on ='video_id').dtypes} \\n\")"
   ]
  },
  {
   "cell_type": "code",
   "execution_count": null,
   "id": "8142831e-50ea-4601-9580-270e2a1787f4",
   "metadata": {},
   "outputs": [],
   "source": []
  }
 ],
 "metadata": {
  "kernelspec": {
   "display_name": "Python 3 (ipykernel)",
   "language": "python",
   "name": "python3"
  },
  "language_info": {
   "codemirror_mode": {
    "name": "ipython",
    "version": 3
   },
   "file_extension": ".py",
   "mimetype": "text/x-python",
   "name": "python",
   "nbconvert_exporter": "python",
   "pygments_lexer": "ipython3",
   "version": "3.11.0"
  },
  "vscode": {
   "interpreter": {
    "hash": "2920b276a3ebce4ce72dc8ffba4d2570b82a96386913ad33f11b89ba088715fe"
   }
  }
 },
 "nbformat": 4,
 "nbformat_minor": 5
}
